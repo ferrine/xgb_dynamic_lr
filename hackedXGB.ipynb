{
 "cells": [
  {
   "cell_type": "code",
   "execution_count": 1,
   "metadata": {
    "collapsed": false
   },
   "outputs": [
    {
     "name": "stderr",
     "output_type": "stream",
     "text": [
      "/usr/local/lib/python3.4/site-packages/IPython/core/interactiveshell.py:2723: DtypeWarning: Columns (6) have mixed types. Specify dtype option on import or set low_memory=False.\n",
      "  interactivity=interactivity, compiler=compiler, result=result)\n"
     ]
    }
   ],
   "source": [
    "import pandas as pd\n",
    "import statistics\n",
    "import numpy as np\n",
    "\n",
    "train = pd.read_csv(\"train.csv\", sep=\";\")\n",
    "train = train.fillna(\"NR\")\n",
    "test = pd.read_csv(\"test.csv\", sep=\";\")\n",
    "test = test.fillna(\"NR\")\n",
    "target_name = \"prime_tot_ttc\""
   ]
  },
  {
   "cell_type": "code",
   "execution_count": 2,
   "metadata": {
    "collapsed": true
   },
   "outputs": [],
   "source": [
    "#change postal code to first two numbers if numeric\n",
    "def trunc_postal(x, letter_count):\n",
    "    if type(x) == int:\n",
    "        return int(str(x)[:letter_count])\n",
    "    elif type(x) == str and x != \"NR\":\n",
    "        return str(x)[:letter_count]\n",
    "    else:\n",
    "        return x\n",
    "\n",
    "def transform_postal(df, letter_count):\n",
    "    df[\"codepostal_trunc_\" + str(letter_count)] = df[\"codepostal\"].apply(lambda x: trunc_postal(x, letter_count))\n",
    "    return df\n",
    "\n",
    "\n",
    "train = transform_postal(train, 3)\n",
    "test = transform_postal(test, 3)\n",
    "train = transform_postal(train, 2)\n",
    "test = transform_postal(test, 2)"
   ]
  },
  {
   "cell_type": "code",
   "execution_count": 3,
   "metadata": {
    "collapsed": true
   },
   "outputs": [],
   "source": [
    "#Т.е. если var12==3211, (как и при var12==0) можно считать, что этот параметр неизвестен.\n",
    "\n",
    "def fill_var12(x):\n",
    "    if x > 2000 or x < 0.1:\n",
    "        return \"NR\"\n",
    "    else:\n",
    "        return x\n",
    "    \n",
    "train[\"var12\"] = train[\"var12\"].apply(fill_var12)\n",
    "test[\"var12\"] = test[\"var12\"].apply(fill_var12)"
   ]
  },
  {
   "cell_type": "code",
   "execution_count": 4,
   "metadata": {
    "collapsed": true
   },
   "outputs": [],
   "source": [
    "def xgbmape(y_pred, y_true): \n",
    "    labels = y_true.get_label()\n",
    "    return (\"mape\", -np.mean(np.abs((labels - y_pred) / labels)) * 100) #need - here due to weird overriding of maximize var in early stopping callback\n",
    "\n",
    "def mape(y_pred, y_true):\n",
    "    return np.mean(np.abs((y_true - y_pred) / y_true)) * 100"
   ]
  },
  {
   "cell_type": "code",
   "execution_count": 5,
   "metadata": {
    "collapsed": true
   },
   "outputs": [],
   "source": [
    "def categorical_mapping(df, column_name):\n",
    "    \n",
    "    values = list(set(df[column_name].unique()))\n",
    "    grouped = df.groupby(column_name).mean()\n",
    "    average_targets = {}\n",
    "    \n",
    "    for category in grouped.index:\n",
    "        average_targets[category] = grouped.loc[category][target_name]\n",
    "    \n",
    "    return average_targets"
   ]
  },
  {
   "cell_type": "code",
   "execution_count": 6,
   "metadata": {
    "collapsed": true
   },
   "outputs": [],
   "source": [
    "col_names = ['annee_naissance', 'annee_permis', 'marque', 'puis_fiscale', 'anc_veh', 'codepostal', 'energie_veh', 'kmage_annuel', 'crm', 'profession', 'var1', 'var2', 'var3', 'var4', 'var5', 'var6', 'var7', 'var8', 'var9', 'var10', 'var11', 'var12', 'var13', 'var14', 'var15', 'var16', 'var17', 'var18', 'var19', 'var20', 'var21', 'var22', \"codepostal_trunc_2\", \"codepostal_trunc_3\"]\n",
    "mappings = {col_name: categorical_mapping(train, col_name) for col_name in col_names}"
   ]
  },
  {
   "cell_type": "code",
   "execution_count": 7,
   "metadata": {
    "collapsed": true
   },
   "outputs": [],
   "source": [
    "def transform_dataframe(df, mappings):\n",
    "    for col_name, mapping in mappings.items():\n",
    "        col_values = []\n",
    "        for i in df[col_name]:\n",
    "            if i in mapping.keys():\n",
    "                col_values.append(mapping[i])\n",
    "            elif \"NR\" in mapping.keys():\n",
    "                col_values.append(mapping[\"NR\"])\n",
    "            else:\n",
    "                col_values.append(statistics.mean(mapping.values()))\n",
    "        \n",
    "        df[col_name] = col_values\n",
    "    return df"
   ]
  },
  {
   "cell_type": "code",
   "execution_count": 8,
   "metadata": {
    "collapsed": true
   },
   "outputs": [],
   "source": [
    "train = transform_dataframe(train, mappings)\n",
    "test = transform_dataframe(test, mappings)"
   ]
  },
  {
   "cell_type": "code",
   "execution_count": 9,
   "metadata": {
    "collapsed": true
   },
   "outputs": [],
   "source": [
    "import xgboost as xgb\n",
    "\n",
    "test_ids = test[\"id\"]\n",
    "test = test[col_names]\n",
    "\n",
    "target = train[target_name]\n",
    "train = train[col_names]"
   ]
  },
  {
   "cell_type": "code",
   "execution_count": 10,
   "metadata": {
    "collapsed": true
   },
   "outputs": [],
   "source": [
    "test_matrix = test.as_matrix()\n",
    "train_matrix = train.as_matrix()\n",
    "target = np.array(target)"
   ]
  },
  {
   "cell_type": "code",
   "execution_count": 11,
   "metadata": {
    "collapsed": true
   },
   "outputs": [],
   "source": [
    "def train_val_by_size(train_matrix, eval_size):\n",
    "    train_size = len(train_matrix)\n",
    "    eval_set_size = int(eval_size * train_size)\n",
    "    eval_set_start = train_size - eval_set_size\n",
    "    eval_matrix = train_matrix[eval_set_start:]\n",
    "    new_train = train_matrix[:eval_set_start]\n",
    "    train_target = target[:eval_set_start]\n",
    "    eval_target = target[eval_set_start:]\n",
    "    \n",
    "    return new_train, eval_matrix, train_target, eval_target"
   ]
  },
  {
   "cell_type": "code",
   "execution_count": 15,
   "metadata": {
    "collapsed": false,
    "scrolled": false
   },
   "outputs": [
    {
     "name": "stdout",
     "output_type": "stream",
     "text": [
      "[0]\tval_0-rmse:373.077\n",
      "Will train until val_0-rmse hasn't improved in 500 rounds.\n",
      "[20]\tval_0-rmse:38.1002\n",
      "[40]\tval_0-rmse:34.0343\n",
      "[60]\tval_0-rmse:32.6373\n",
      "[80]\tval_0-rmse:31.7846\n",
      "[100]\tval_0-rmse:31.2868\n",
      "[120]\tval_0-rmse:31.0539\n",
      "[140]\tval_0-rmse:30.8704\n",
      "[160]\tval_0-rmse:30.7195\n",
      "[180]\tval_0-rmse:30.4965\n",
      "[200]\tval_0-rmse:30.3743\n",
      "[220]\tval_0-rmse:30.2866\n",
      "[240]\tval_0-rmse:30.4142\n",
      "[260]\tval_0-rmse:30.4501\n",
      "[280]\tval_0-rmse:30.3986\n",
      "[300]\tval_0-rmse:30.3916\n",
      "[320]\tval_0-rmse:30.3091\n",
      "[340]\tval_0-rmse:30.2826\n",
      "[360]\tval_0-rmse:30.3875\n",
      "[380]\tval_0-rmse:30.3625\n",
      "[400]\tval_0-rmse:30.335\n",
      "[420]\tval_0-rmse:30.3189\n",
      "[440]\tval_0-rmse:30.333\n",
      "[460]\tval_0-rmse:30.314\n",
      "[480]\tval_0-rmse:30.2471\n",
      "[500]\tval_0-rmse:30.2192\n",
      "[520]\tval_0-rmse:30.1809\n",
      "[540]\tval_0-rmse:30.1805\n",
      "[560]\tval_0-rmse:30.2361\n",
      "[580]\tval_0-rmse:30.3109\n",
      "[600]\tval_0-rmse:30.2715\n",
      "[620]\tval_0-rmse:30.2856\n",
      "[640]\tval_0-rmse:30.3263\n",
      "[660]\tval_0-rmse:30.3244\n",
      "[680]\tval_0-rmse:30.2756\n",
      "[700]\tval_0-rmse:30.2493\n",
      "[720]\tval_0-rmse:30.2211\n",
      "[740]\tval_0-rmse:30.2269\n",
      "[760]\tval_0-rmse:30.2223\n",
      "[780]\tval_0-rmse:30.2215\n",
      "[800]\tval_0-rmse:30.2609\n",
      "[820]\tval_0-rmse:30.221\n",
      "[840]\tval_0-rmse:30.2128\n",
      "[860]\tval_0-rmse:30.1858\n",
      "[880]\tval_0-rmse:30.1833\n",
      "[900]\tval_0-rmse:30.1792\n",
      "[920]\tval_0-rmse:30.175\n",
      "[940]\tval_0-rmse:30.1591\n",
      "[960]\tval_0-rmse:30.1308\n",
      "[980]\tval_0-rmse:30.1451\n",
      "[1000]\tval_0-rmse:30.1279\n",
      "[1020]\tval_0-rmse:30.1184\n",
      "[1040]\tval_0-rmse:30.1163\n",
      "[1060]\tval_0-rmse:30.1181\n",
      "[1080]\tval_0-rmse:30.126\n",
      "[1100]\tval_0-rmse:30.123\n",
      "[1120]\tval_0-rmse:30.1217\n",
      "[1140]\tval_0-rmse:30.1185\n",
      "[1160]\tval_0-rmse:30.1079\n",
      "[1180]\tval_0-rmse:30.1061\n",
      "[1200]\tval_0-rmse:30.1008\n",
      "[1220]\tval_0-rmse:30.0976\n",
      "[1240]\tval_0-rmse:30.0993\n",
      "[1260]\tval_0-rmse:30.1303\n",
      "[1280]\tval_0-rmse:30.1356\n",
      "[1300]\tval_0-rmse:30.1368\n",
      "[1320]\tval_0-rmse:30.1379\n",
      "[1340]\tval_0-rmse:30.1284\n",
      "[1360]\tval_0-rmse:30.1252\n",
      "[1380]\tval_0-rmse:30.0976\n",
      "[1400]\tval_0-rmse:30.0839\n",
      "[1420]\tval_0-rmse:30.0997\n",
      "[1440]\tval_0-rmse:30.1176\n",
      "[1460]\tval_0-rmse:30.1132\n",
      "[1480]\tval_0-rmse:30.1306\n",
      "[1500]\tval_0-rmse:30.1278\n",
      "[1520]\tval_0-rmse:30.1283\n",
      "[1540]\tval_0-rmse:30.1446\n",
      "[1560]\tval_0-rmse:30.1321\n",
      "[1580]\tval_0-rmse:30.123\n",
      "[1600]\tval_0-rmse:30.1285\n",
      "[1620]\tval_0-rmse:30.1221\n",
      "[1640]\tval_0-rmse:30.1205\n",
      "[1660]\tval_0-rmse:30.1206\n",
      "[1680]\tval_0-rmse:30.1189\n",
      "[1700]\tval_0-rmse:30.1189\n",
      "[1720]\tval_0-rmse:30.1196\n",
      "[1740]\tval_0-rmse:30.1108\n",
      "[1760]\tval_0-rmse:30.1195\n",
      "[1780]\tval_0-rmse:30.1221\n",
      "[1800]\tval_0-rmse:30.1208\n",
      "[1820]\tval_0-rmse:30.1513\n",
      "[1840]\tval_0-rmse:30.1475\n",
      "[1860]\tval_0-rmse:30.155\n",
      "[1880]\tval_0-rmse:30.1541\n",
      "[1900]\tval_0-rmse:30.1484\n",
      "Stopping. Best iteration:\n",
      "[1410]\tval_0-rmse:30.0744\n",
      "\n"
     ]
    }
   ],
   "source": [
    "from lr_callbacks import dynamic_lr, bold_driver, mc_clain, stc\n",
    "\n",
    "# decrease_function - takes current LR as input, returns a new one\n",
    "# rounds_function - takes number of LR decreases, returns allowed number of iterations that dont reduce eval score before applying decrease_function \n",
    "dynamic_lr = dynamic_lr(start_lr=0.5, min_lr=0.0001, decrease_function=lambda x: x*0.5, rounds_function=lambda x: int(5*x**1.6))\n",
    "\n",
    "bold_driver = bold_driver(start_lr=0.5, min_lr=0.005, boldness=1.005, timidness=0.5, relax=5, relax_k=2)\n",
    "\n",
    "mc_clain = mc_clain(start_lr=0.5, target_lr=0.001)\n",
    "\n",
    "stc = stc(start_lr=0.25, T=150)\n",
    "\n",
    "new_train, eval_matrix, train_target, eval_target = train_val_by_size(train_matrix, 0.1)\n",
    "eval_set = [(eval_matrix, eval_target)]\n",
    "xgmat = xgb.DMatrix(new_train, train_target)\n",
    "\n",
    "params = {\"objective\": \"reg:linear\",\n",
    "          \"eta\": 0.01,\n",
    "          \"max_depth\": 6}\n",
    "gbm = xgb.train(dtrain=xgmat, callbacks=[stc], params=params, num_boost_round=15000, early_stopping_rounds=500, verbose_eval=20, evals=[(xgb.DMatrix(eval_matrix, eval_target), \"val_0\")])"
   ]
  },
  {
   "cell_type": "code",
   "execution_count": null,
   "metadata": {
    "collapsed": true
   },
   "outputs": [],
   "source": []
  },
  {
   "cell_type": "code",
   "execution_count": null,
   "metadata": {
    "collapsed": true
   },
   "outputs": [],
   "source": []
  }
 ],
 "metadata": {
  "kernelspec": {
   "display_name": "Python 3",
   "language": "python",
   "name": "python3"
  },
  "language_info": {
   "codemirror_mode": {
    "name": "ipython",
    "version": 3
   },
   "file_extension": ".py",
   "mimetype": "text/x-python",
   "name": "python",
   "nbconvert_exporter": "python",
   "pygments_lexer": "ipython3",
   "version": "3.4.4"
  },
  "widgets": {
   "state": {},
   "version": "1.1.2"
  }
 },
 "nbformat": 4,
 "nbformat_minor": 0
}
