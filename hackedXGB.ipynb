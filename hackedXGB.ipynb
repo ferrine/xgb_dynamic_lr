{
 "cells": [
  {
   "cell_type": "code",
   "execution_count": 1,
   "metadata": {
    "collapsed": false
   },
   "outputs": [
    {
     "name": "stderr",
     "output_type": "stream",
     "text": [
      "/home/akis/.local/lib/python3.5/site-packages/IPython/core/interactiveshell.py:2705: DtypeWarning: Columns (6) have mixed types. Specify dtype option on import or set low_memory=False.\n",
      "  interactivity=interactivity, compiler=compiler, result=result)\n"
     ]
    }
   ],
   "source": [
    "import pandas as pd\n",
    "import statistics\n",
    "import numpy as np\n",
    "\n",
    "train = pd.read_csv(\"train.csv\", sep=\";\")\n",
    "train = train.fillna(\"NR\")\n",
    "test = pd.read_csv(\"test.csv\", sep=\";\")\n",
    "test = test.fillna(\"NR\")\n",
    "target_name = \"prime_tot_ttc\""
   ]
  },
  {
   "cell_type": "code",
   "execution_count": 2,
   "metadata": {
    "collapsed": true
   },
   "outputs": [],
   "source": [
    "#change postal code to first two numbers if numeric\n",
    "def trunc_postal(x, letter_count):\n",
    "    if type(x) == int:\n",
    "        return int(str(x)[:letter_count])\n",
    "    elif type(x) == str and x != \"NR\":\n",
    "        return str(x)[:letter_count]\n",
    "    else:\n",
    "        return x\n",
    "\n",
    "def transform_postal(df, letter_count):\n",
    "    df[\"codepostal_trunc_\" + str(letter_count)] = df[\"codepostal\"].apply(lambda x: trunc_postal(x, letter_count))\n",
    "    return df\n",
    "\n",
    "\n",
    "train = transform_postal(train, 3)\n",
    "test = transform_postal(test, 3)\n",
    "train = transform_postal(train, 2)\n",
    "test = transform_postal(test, 2)"
   ]
  },
  {
   "cell_type": "code",
   "execution_count": 3,
   "metadata": {
    "collapsed": true
   },
   "outputs": [],
   "source": [
    "#Т.е. если var12==3211, (как и при var12==0) можно считать, что этот параметр неизвестен.\n",
    "\n",
    "def fill_var12(x):\n",
    "    if x > 2000 or x < 0.1:\n",
    "        return \"NR\"\n",
    "    else:\n",
    "        return x\n",
    "    \n",
    "train[\"var12\"] = train[\"var12\"].apply(fill_var12)\n",
    "test[\"var12\"] = test[\"var12\"].apply(fill_var12)"
   ]
  },
  {
   "cell_type": "code",
   "execution_count": 4,
   "metadata": {
    "collapsed": true
   },
   "outputs": [],
   "source": [
    "def xgbmape(y_pred, y_true): \n",
    "    labels = y_true.get_label()\n",
    "    return (\"mape\", -np.mean(np.abs((labels - y_pred) / labels)) * 100) #need - here due to weird overriding of maximize var in early stopping callback\n",
    "\n",
    "def mape(y_pred, y_true):\n",
    "    return np.mean(np.abs((y_true - y_pred) / y_true)) * 100"
   ]
  },
  {
   "cell_type": "code",
   "execution_count": 5,
   "metadata": {
    "collapsed": true
   },
   "outputs": [],
   "source": [
    "def categorical_mapping(df, column_name):\n",
    "    \n",
    "    values = list(set(df[column_name].unique()))\n",
    "    grouped = df.groupby(column_name).mean()\n",
    "    average_targets = {}\n",
    "    \n",
    "    for category in grouped.index:\n",
    "        average_targets[category] = grouped.loc[category][target_name]\n",
    "    \n",
    "    return average_targets"
   ]
  },
  {
   "cell_type": "code",
   "execution_count": 6,
   "metadata": {
    "collapsed": true
   },
   "outputs": [],
   "source": [
    "col_names = ['annee_naissance', 'annee_permis', 'marque', 'puis_fiscale', 'anc_veh', 'codepostal', 'energie_veh', 'kmage_annuel', 'crm', 'profession', 'var1', 'var2', 'var3', 'var4', 'var5', 'var6', 'var7', 'var8', 'var9', 'var10', 'var11', 'var12', 'var13', 'var14', 'var15', 'var16', 'var17', 'var18', 'var19', 'var20', 'var21', 'var22', \"codepostal_trunc_2\", \"codepostal_trunc_3\"]\n",
    "mappings = {col_name: categorical_mapping(train, col_name) for col_name in col_names}"
   ]
  },
  {
   "cell_type": "code",
   "execution_count": 7,
   "metadata": {
    "collapsed": true
   },
   "outputs": [],
   "source": [
    "def transform_dataframe(df, mappings):\n",
    "    for col_name, mapping in mappings.items():\n",
    "        col_values = []\n",
    "        for i in df[col_name]:\n",
    "            if i in mapping.keys():\n",
    "                col_values.append(mapping[i])\n",
    "            elif \"NR\" in mapping.keys():\n",
    "                col_values.append(mapping[\"NR\"])\n",
    "            else:\n",
    "                col_values.append(statistics.mean(mapping.values()))\n",
    "        \n",
    "        df[col_name] = col_values\n",
    "    return df"
   ]
  },
  {
   "cell_type": "code",
   "execution_count": 8,
   "metadata": {
    "collapsed": true
   },
   "outputs": [],
   "source": [
    "train = transform_dataframe(train, mappings)\n",
    "test = transform_dataframe(test, mappings)"
   ]
  },
  {
   "cell_type": "code",
   "execution_count": 9,
   "metadata": {
    "collapsed": true
   },
   "outputs": [],
   "source": [
    "import xgboost as xgb\n",
    "\n",
    "test_ids = test[\"id\"]\n",
    "test = test[col_names]\n",
    "\n",
    "target = train[target_name]\n",
    "train = train[col_names]"
   ]
  },
  {
   "cell_type": "code",
   "execution_count": 10,
   "metadata": {
    "collapsed": true
   },
   "outputs": [],
   "source": [
    "test_matrix = test.as_matrix()\n",
    "train_matrix = train.as_matrix()\n",
    "target = np.array(target)"
   ]
  },
  {
   "cell_type": "code",
   "execution_count": 11,
   "metadata": {
    "collapsed": true
   },
   "outputs": [],
   "source": [
    "\n",
    "def train_val_by_size(train_matrix, eval_size):\n",
    "    train_size = len(train_matrix)\n",
    "    eval_set_size = int(eval_size * train_size)\n",
    "    eval_set_start = train_size - eval_set_size\n",
    "    eval_matrix = train_matrix[eval_set_start:]\n",
    "    new_train = train_matrix[:eval_set_start]\n",
    "    train_target = target[:eval_set_start]\n",
    "    eval_target = target[eval_set_start:]\n",
    "    \n",
    "    return new_train, eval_matrix, train_target, eval_target"
   ]
  },
  {
   "cell_type": "code",
   "execution_count": 12,
   "metadata": {
    "collapsed": false
   },
   "outputs": [
    {
     "name": "stdout",
     "output_type": "stream",
     "text": [
      "[0]\tval_0-rmse:373.077\n",
      "Will train until val_0-rmse hasn't improved in 200 rounds.\n",
      "[10]\tval_0-rmse:39.727\n",
      "[20]\tval_0-rmse:35.8916\n",
      "lowered lr 0.45\n",
      "[30]\tval_0-rmse:35.0157\n",
      "[40]\tval_0-rmse:34.131\n",
      "[50]\tval_0-rmse:33.529\n",
      "[60]\tval_0-rmse:32.8863\n",
      "[70]\tval_0-rmse:32.4835\n",
      "[80]\tval_0-rmse:32.0928\n",
      "[90]\tval_0-rmse:31.8092\n",
      "[100]\tval_0-rmse:31.7501\n",
      "[110]\tval_0-rmse:31.4943\n",
      "lowered lr 0.405\n",
      "[120]\tval_0-rmse:31.4998\n",
      "[130]\tval_0-rmse:31.455\n",
      "[140]\tval_0-rmse:31.3875\n",
      "[150]\tval_0-rmse:31.3018\n",
      "[160]\tval_0-rmse:31.2136\n",
      "[170]\tval_0-rmse:31.7013\n",
      "[180]\tval_0-rmse:31.689\n",
      "lowered lr 0.36450000000000005\n",
      "[190]\tval_0-rmse:31.5754\n",
      "[200]\tval_0-rmse:31.4212\n",
      "[210]\tval_0-rmse:31.5195\n",
      "lowered lr 0.32805000000000006\n",
      "[220]\tval_0-rmse:31.4493\n",
      "[230]\tval_0-rmse:31.4694\n",
      "[240]\tval_0-rmse:31.4038\n",
      "[250]\tval_0-rmse:31.3927\n",
      "[260]\tval_0-rmse:31.4114\n",
      "lowered lr 0.2952450000000001\n",
      "[270]\tval_0-rmse:31.2911\n",
      "[280]\tval_0-rmse:31.3674\n",
      "[290]\tval_0-rmse:31.3573\n",
      "[300]\tval_0-rmse:31.3917\n",
      "[310]\tval_0-rmse:31.3403\n",
      "[320]\tval_0-rmse:31.2806\n",
      "lowered lr 0.2657205000000001\n",
      "[330]\tval_0-rmse:31.2204\n",
      "[340]\tval_0-rmse:31.2351\n",
      "[350]\tval_0-rmse:31.2911\n",
      "[360]\tval_0-rmse:31.2246\n",
      "[370]\tval_0-rmse:31.2136\n",
      "[380]\tval_0-rmse:31.1899\n",
      "[390]\tval_0-rmse:31.2128\n",
      "[400]\tval_0-rmse:31.2597\n",
      "[410]\tval_0-rmse:31.2814\n",
      "[420]\tval_0-rmse:31.6448\n",
      "[430]\tval_0-rmse:31.9049\n",
      "[440]\tval_0-rmse:31.8468\n",
      "[450]\tval_0-rmse:31.7826\n",
      "[460]\tval_0-rmse:31.7888\n",
      "[470]\tval_0-rmse:31.7924\n",
      "[480]\tval_0-rmse:31.8145\n",
      "[490]\tval_0-rmse:31.9042\n",
      "[500]\tval_0-rmse:31.9325\n",
      "[510]\tval_0-rmse:31.9206\n",
      "[520]\tval_0-rmse:31.9472\n",
      "[530]\tval_0-rmse:31.9699\n",
      "[540]\tval_0-rmse:31.9545\n",
      "lowered lr 0.23914845000000007\n",
      "[550]\tval_0-rmse:31.937\n",
      "[560]\tval_0-rmse:32.0144\n",
      "[570]\tval_0-rmse:31.9992\n",
      "[580]\tval_0-rmse:31.9867\n",
      "Stopping. Best iteration:\n",
      "[381]\tval_0-rmse:31.1891\n",
      "\n"
     ]
    }
   ],
   "source": [
    "from hacked_xgb_train import dynamic_lr\n",
    "\n",
    "# decrease_function - takes current LR as input, returns a new one\n",
    "# rounds_function - takes number of LR decreases, returns allowed number of iterations that dont reduce eval score before applying decrease_function \n",
    "callbacks=[dynamic_lr(start_lr=0.5, min_lr=0.0001, decrease_function=lambda x: x*0.9, rounds_function=lambda x: int(5*x**1.6))]\n",
    "\n",
    "new_train, eval_matrix, train_target, eval_target = train_val_by_size(train_matrix, 0.1)\n",
    "eval_set = [(eval_matrix, eval_target)]\n",
    "xgmat = xgb.DMatrix(new_train, train_target)\n",
    "\n",
    "params = {\"objective\": \"reg:linear\",\n",
    "          \"eta\": 0.01,\n",
    "          \"max_depth\": 6}\n",
    "gbm = xgb.train(dtrain=xgmat, params=params, callbacks=callbacks, num_boost_round=10000, early_stopping_rounds=200, verbose_eval=10, evals=[(xgb.DMatrix(eval_matrix, eval_target), \"val_0\")])\n",
    "       "
   ]
  },
  {
   "cell_type": "code",
   "execution_count": null,
   "metadata": {
    "collapsed": true
   },
   "outputs": [],
   "source": []
  }
 ],
 "metadata": {
  "kernelspec": {
   "display_name": "Python 3",
   "language": "python",
   "name": "python3"
  },
  "language_info": {
   "codemirror_mode": {
    "name": "ipython",
    "version": 3
   },
   "file_extension": ".py",
   "mimetype": "text/x-python",
   "name": "python",
   "nbconvert_exporter": "python",
   "pygments_lexer": "ipython3",
   "version": "3.5.1+"
  },
  "widgets": {
   "state": {},
   "version": "1.1.2"
  }
 },
 "nbformat": 4,
 "nbformat_minor": 0
}
