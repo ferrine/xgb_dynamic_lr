{
 "cells": [
  {
   "cell_type": "code",
   "execution_count": 1,
   "metadata": {
    "collapsed": false
   },
   "outputs": [],
   "source": [
    "import numpy as np\n",
    "from helpers import train_test, traincb, plot_comparison\n",
    "import xgboost as xgb\n",
    "%matplotlib inline"
   ]
  },
  {
   "cell_type": "code",
   "execution_count": 2,
   "metadata": {
    "collapsed": false
   },
   "outputs": [],
   "source": [
    "train, test = train_test()\n",
    "params = {\"objective\": \"reg:linear\",\n",
    "          \"eta\": 0.01,\n",
    "          \"max_depth\": 6}"
   ]
  },
  {
   "cell_type": "code",
   "execution_count": 3,
   "metadata": {
    "collapsed": false
   },
   "outputs": [],
   "source": [
    "from lr_callbacks import dynamic_lr, bold_driver, mc_clain, stc, TrackGradMean, PredictLoss, BaseLR\n",
    "\n",
    "# decrease_function - takes current LR as input, returns a new one\n",
    "# rounds_function - takes number of LR decreases, returns allowed number of iterations that dont reduce eval score before applying decrease_function \n",
    "dynamic_lr = dynamic_lr(start_lr=0.5, min_lr=0.0001, decrease_function=lambda x: x*0.5, rounds_function=lambda x: int(5*x**1.6))\n",
    "bold_driver = bold_driver(start_lr=0.5, min_lr=0.005, boldness=1.005, timidness=0.5, relax=5, relax_k=2)\n",
    "mc_clain = mc_clain(start_lr=0.5, target_lr=0.001)\n",
    "stc = stc(start_lr=0.25, T=150)\n",
    "# track_mean = TrackGradMean(trainset=train, howto=np.median, a=1e-1, b1=.8, b2=.8)\n",
    "with_prediction = PredictLoss(lr=.1, evals=[(test, \"val_0\")])"
   ]
  },
  {
   "cell_type": "code",
   "execution_count": 4,
   "metadata": {
    "collapsed": true
   },
   "outputs": [],
   "source": [
    "callbacks_to_test = [[], [stc], [bold_driver], [mc_clain], [with_prediction]]"
   ]
  },
  {
   "cell_type": "code",
   "execution_count": 5,
   "metadata": {
    "collapsed": true
   },
   "outputs": [],
   "source": [
    "gbms = []"
   ]
  },
  {
   "cell_type": "code",
   "execution_count": 6,
   "metadata": {
    "collapsed": false
   },
   "outputs": [],
   "source": [
    "for i, cbs in enumerate([[with_prediction]]):\n",
    "    gbms.append(\n",
    "        xgb.train(dtrain=train, callbacks=cbs, params=params, num_boost_round=1000, early_stopping_rounds=15,\n",
    "                  verbose_eval=False, evals=[(test, \"val_0\")]))"
   ]
  },
  {
   "cell_type": "code",
   "execution_count": 9,
   "metadata": {
    "collapsed": false
   },
   "outputs": [
    {
     "data": {
      "image/png": "[encoded data removed]",
      "text/plain": [
       "<matplotlib.figure.Figure at 0x117375eb8>"
      ]
     },
     "metadata": {},
     "output_type": "display_data"
    }
   ],
   "source": [
    "plot_comparison([[with_prediction]])"
   ]
  },
  {
   "cell_type": "code",
   "execution_count": 22,
   "metadata": {
    "collapsed": false
   },
   "outputs": [],
   "source": [
    "g = gbms[0]"
   ]
  },
  {
   "cell_type": "code",
   "execution_count": 4,
   "metadata": {
    "collapsed": false
   },
   "outputs": [
    {
     "data": {
      "text/plain": [
       "<lr_callbacks.PredictLoss at 0x1067af208>"
      ]
     },
     "execution_count": 4,
     "metadata": {},
     "output_type": "execute_result"
    }
   ],
   "source": []
  },
  {
   "cell_type": "code",
   "execution_count": 7,
   "metadata": {
    "collapsed": false
   },
   "outputs": [
    {
     "data": {
      "text/plain": [
       "'PredictLoss/trace_0'"
      ]
     },
     "execution_count": 7,
     "metadata": {},
     "output_type": "execute_result"
    }
   ],
   "source": [
    "with_prediction.tag"
   ]
  },
  {
   "cell_type": "code",
   "execution_count": 22,
   "metadata": {
    "collapsed": false
   },
   "outputs": [
    {
     "name": "stdout",
     "output_type": "stream",
     "text": [
      "__pycache__\n",
      "ferresbook.ipynb\n",
      "hackedXGB.ipynb\n",
      "helpers.py\n",
      "lr_0005_d_6_standard\n",
      "lr_001_d_6_standard\n",
      "lr_01_d_6_standard\n",
      "lr_callbacks.py\n",
      "objectives.py\n",
      "test.csv\n",
      "train.csv\n",
      "traintest\n",
      "xgb_0_log.txt\n",
      "xgb_1_log.txt\n",
      "xgb_2_log.txt\n",
      "xgb_3_log.txt\n",
      "xgb_4_log.txt\n"
     ]
    }
   ],
   "source": [
    "%%bash \n",
    "ls"
   ]
  },
  {
   "cell_type": "code",
   "execution_count": 11,
   "metadata": {
    "collapsed": false
   },
   "outputs": [
    {
     "data": {
      "text/plain": [
       "'PredictLoss/trace_1'"
      ]
     },
     "execution_count": 11,
     "metadata": {},
     "output_type": "execute_result"
    }
   ],
   "source": [
    "with_prediction.tag"
   ]
  },
  {
   "cell_type": "code",
   "execution_count": 10,
   "metadata": {
    "collapsed": false
   },
   "outputs": [
    {
     "data": {
      "text/plain": [
       "[(<xgboost.core.DMatrix at 0x10939def0>, 'val_0')]"
      ]
     },
     "execution_count": 10,
     "metadata": {},
     "output_type": "execute_result"
    }
   ],
   "source": [
    "with_prediction.evals"
   ]
  },
  {
   "cell_type": "code",
   "execution_count": 14,
   "metadata": {
    "collapsed": false
   },
   "outputs": [
    {
     "data": {
      "text/plain": [
       "b'[4]\\tval_0-rmse:358.637115'"
      ]
     },
     "execution_count": 14,
     "metadata": {},
     "output_type": "execute_result"
    }
   ],
   "source": [
    "b'[4]\\tval_0-rmse:358.637115'"
   ]
  },
  {
   "cell_type": "code",
   "execution_count": null,
   "metadata": {
    "collapsed": true
   },
   "outputs": [],
   "source": []
  }
 ],
 "metadata": {
  "kernelspec": {
   "display_name": "Python 3",
   "language": "python",
   "name": "python3"
  },
  "language_info": {
   "codemirror_mode": {
    "name": "ipython",
    "version": 3
   },
   "file_extension": ".py",
   "mimetype": "text/x-python",
   "name": "python",
   "nbconvert_exporter": "python",
   "pygments_lexer": "ipython3",
   "version": "3.5.2"
  }
 },
 "nbformat": 4,
 "nbformat_minor": 0
}
